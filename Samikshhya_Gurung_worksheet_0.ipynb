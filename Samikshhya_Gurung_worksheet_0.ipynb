{
 "cells": [
  {
   "cell_type": "markdown",
   "id": "bd2ed7a7",
   "metadata": {},
   "source": [
    "# Samikshhya Gurung(2417750)\n"
   ]
  },
  {
   "cell_type": "markdown",
   "id": "a68c107b",
   "metadata": {},
   "source": [
    "## Q. no. 7"
   ]
  },
  {
   "cell_type": "code",
   "execution_count": 2,
   "id": "32998c28",
   "metadata": {},
   "outputs": [
    {
     "name": "stdout",
     "output_type": "stream",
     "text": [
      "Cold:  [8.2, 7.9, 9.0, 8.5, 7.7, 8.4, 9.5, 8.1, 7.6, 8.0, 7.8, 8.7, 9.2, 8.3, 8.9, 7.8]\n",
      "Mild:  [14.1, 13.5, 13.0, 12.9, 13.3, 14.0, 13.4, 14.2, 12.8, 13.7, 13.6, 13.8, 13.9, 12.7, 13.1, 12.5]\n",
      "Comfortable:  [17.4, 18.0, 17.8, 16.5, 17.2, 16.7, 18.3, 17.9, 17.0, 16.8, 17.5, 17.1, 18.1, 16.4, 18.2, 16.6]\n",
      "Mild count:  16\n",
      "Comfortable count:  16\n",
      "Cold count:  16\n",
      "Temperatures in F:  [46.76, 63.32, 57.38, 46.22, 64.4, 56.3, 48.2, 64.04, 55.4, 47.3, 61.7, 55.22, 45.86, 62.96, 55.94, 47.12, 62.06, 57.2, 49.1, 64.94, 56.12, 46.58, 64.22, 57.56, 45.68, 62.6, 55.04, 46.4, 62.24, 56.66, 46.04, 63.5, 56.48, 47.66, 62.78, 56.84, 48.56, 64.58, 57.02, 46.94, 61.52, 54.86, 48.02, 64.76, 55.58, 46.04, 61.88, 54.5]\n",
      "Night:  [8.2, 7.9, 9.0, 8.5, 7.7, 8.4, 9.5, 8.1, 7.6, 8.0, 7.8, 8.7, 9.2, 8.3, 8.9, 7.8]\n",
      "Evening:  [17.4, 18.0, 17.8, 16.5, 17.2, 16.7, 18.3, 17.9, 17.0, 16.8, 17.5, 17.1, 18.1, 16.4, 18.2, 16.6]\n",
      "Day:  [14.1, 13.5, 13.0, 12.9, 13.3, 14.0, 13.4, 14.2, 12.8, 13.7, 13.6, 13.8, 13.9, 12.7, 13.1, 12.5]\n",
      "The average day temperature:  13.40625\n"
     ]
    }
   ],
   "source": [
    "temperatures = [8.2, 17.4, 14.1, 7.9, 18.0, 13.5, 9.0, 17.8, 13.0, 8.5,\n",
    " 16.5, 12.9, 7.7, 17.2, 13.3, 8.4, 16.7, 14.0, 9.5, 18.3, 13.4, 8.1,\n",
    " 17.9, 14.2, 7.6, 17.0, 12.8, 8.0, 16.8, 13.7, 7.8, 17.5, 13.6, 8.7,\n",
    " 17.1, 13.8, 9.2, 18.1, 13.9, 8.3, 16.4, 12.7, 8.9, 18.2, 13.1, 7.8,\n",
    " 16.6, 12.5]\n",
    "\n",
    "# Task 1. Classify Temperature\n",
    "cold = []\n",
    "mild = []\n",
    "comfortable = []\n",
    "for i in temperatures:\n",
    "    if i<10:\n",
    "        cold.append(i)\n",
    "    elif i>=10 and i<15:\n",
    "        mild.append(i)\n",
    "    elif i>=15 and i<20:\n",
    "        comfortable.append(i)\n",
    "    else:\n",
    "        continue\n",
    "print(\"Cold: \", cold)\n",
    "print(\"Mild: \", mild)\n",
    "print(\"Comfortable: \", comfortable)\n",
    "\n",
    "# Task 2\n",
    "print(\"Mild count: \", len(mild))\n",
    "print(\"Comfortable count: \", len(comfortable))\n",
    "print(\"Cold count: \", len(cold))\n",
    "\n",
    "#Task 3\n",
    "temperatures_fahrenheit=[]\n",
    "for i in temperatures:\n",
    "    F = round(i* (9/5) + 32, 2) # Convert Celsius to Fahrenheit and round to 2 decimal places\n",
    "    temperatures_fahrenheit.append(F)\n",
    "print(\"Temperatures in F: \",temperatures_fahrenheit)\n",
    "\n",
    "#Task 4\n",
    "night = []\n",
    "evening = []\n",
    "day = []\n",
    "for i in range(0, len(temperatures), 3):\n",
    "    night.append(temperatures[i])\n",
    "for i in range(1, len(temperatures), 3):\n",
    "    evening.append(temperatures[i])\n",
    "for i in range(2, len(temperatures), 3):\n",
    "    day.append(temperatures[i])\n",
    "print(\"Night: \", night)\n",
    "print(\"Evening: \", evening)\n",
    "print(\"Day: \", day)\n",
    "print(\"The average day temperature: \",sum(day) / len(day))"
   ]
  },
  {
   "cell_type": "markdown",
   "id": "e9c19231",
   "metadata": {},
   "source": [
    "## Q. no. 8"
   ]
  },
  {
   "cell_type": "code",
   "execution_count": 3,
   "id": "4fc48abe",
   "metadata": {},
   "outputs": [
    {
     "data": {
      "text/plain": [
       "36"
      ]
     },
     "execution_count": 3,
     "metadata": {},
     "output_type": "execute_result"
    }
   ],
   "source": [
    "## Task 1\n",
    "def sum_nested_list(nested_list):\n",
    "    \"\"\"\n",
    "    Calculate the sum of all numbers in a nested list.\n",
    "    This function takes a list that may contain integers and other nested lists.\n",
    "    It recursively traverses the list and sums all the integers, no matter how deeply\n",
    "        nested they are.\n",
    "    Args:\n",
    "        nested_list (list): A list that may contain integers or other lists of integers.\n",
    "    Returns:\n",
    "        int: Thetotalsumofallintegersinthenestedlist,includingthoseinsublists.\n",
    "    Example:\n",
    "        >>>sum_nested_list([1,[2,[3,4],5],6,[7,8]])\n",
    "        36\n",
    "        >>>sum_nested_list([1,[2,3],[4,[5]]])\n",
    "        15\n",
    "    \"\"\"\n",
    "    total=0\n",
    "    for element in nested_list:\n",
    "        if isinstance(element,list):#Checkiftheelementisalist\n",
    "            total+=sum_nested_list(element)#Recursivelysumthenestedlist\n",
    "        else:\n",
    "            total+=element#Addthenumbertothetotal\n",
    "    return total\n",
    "sum_nested_list([1,[2,[3,4],5],6,[7,8]])"
   ]
  },
  {
   "cell_type": "code",
   "execution_count": 10,
   "id": "baeef2f8",
   "metadata": {},
   "outputs": [
    {
     "name": "stdout",
     "output_type": "stream",
     "text": [
      "['bac', 'acb', 'cba', 'abc', 'bca', 'cab']\n",
      "['baa', 'aab', 'aba']\n"
     ]
    }
   ],
   "source": [
    "#Q. no. 8\n",
    "#Task 2\n",
    "def generate_permutations(s):\n",
    "    if len(s) == 0:\n",
    "        return [\"\"]\n",
    "    permutations = []\n",
    "    for i in range(len(s)):\n",
    "        current_char = s[i]\n",
    "        remaining_string = \"\"\n",
    "        for j in range(len(s)):\n",
    "            if j != i:\n",
    "                remaining_string += s[j]\n",
    "        for k in generate_permutations(remaining_string):\n",
    "            permutations.append(current_char + k)\n",
    "    return list(set(permutations))\n",
    "print(generate_permutations(\"abc\"))\n",
    "print(generate_permutations(\"aab\"))"
   ]
  },
  {
   "cell_type": "code",
   "execution_count": 12,
   "id": "87cbd4aa",
   "metadata": {},
   "outputs": [
    {
     "data": {
      "text/plain": [
       "1400"
      ]
     },
     "execution_count": 12,
     "metadata": {},
     "output_type": "execute_result"
    }
   ],
   "source": [
    "#Q. no. 8\n",
    "#Task 3\n",
    "#Sampledirectorystructure\n",
    "directory_structure={\n",
    "    \"file1.txt\":200,\n",
    "    \"file2.txt\":300,\n",
    "    \"subdir1\":{\n",
    "        \"file3.txt\":400,\n",
    "        \"file4.txt\":100\n",
    "    },\n",
    "    \"subdir2\":{\n",
    "        \"subsubdir1\":{\n",
    "            \"file5.txt\":250\n",
    "        },\n",
    "        \"file6.txt\": 150\n",
    "    }\n",
    "}\n",
    "def calculate_directory_size(directory):\n",
    "    total = 0\n",
    "    for item in directory:\n",
    "        if isinstance(directory[item], dict):\n",
    "            total += calculate_directory_size(directory[item])\n",
    "        else:\n",
    "            total += directory[item]\n",
    "    return total\n",
    "calculate_directory_size(directory_structure)\n"
   ]
  },
  {
   "cell_type": "markdown",
   "id": "5f454f3a",
   "metadata": {},
   "source": [
    "## Q. no. 9"
   ]
  },
  {
   "cell_type": "code",
   "execution_count": 18,
   "id": "1dd53345",
   "metadata": {},
   "outputs": [
    {
     "data": {
      "text/plain": [
       "3"
      ]
     },
     "execution_count": 18,
     "metadata": {},
     "output_type": "execute_result"
    }
   ],
   "source": [
    "#Task 1\n",
    "def min_coins(coins, amount):\n",
    "    \"\"\"\n",
    "    Finds the minimum number of coins needed to make up a given amount using dynamic\n",
    "    programming.\n",
    "    This function solves the coin change problem by determining the fewest number of\n",
    "    coins from a given set of coin denominations that sum up to a target amount.\n",
    "    The solution uses dynamic programming (tabulation) to iteratively build up the minimum\n",
    "    number of coins required for each amount.\n",
    "\n",
    "    Parameters:\n",
    "    coins (list of int): A list of coin denominations available for making change. Each\n",
    "    coin denomination is a positive integer.\n",
    "    amount (int): The target amount for which we need to find the minimum number of coins.\n",
    "    It must be a non-negative integer.\n",
    "\n",
    "    Returns:\n",
    "    int: The minimum number of coins required to make the given amount.\n",
    "    If it is not possible to make the amount with the given coins, returns -1.\n",
    "\n",
    "    Example:\n",
    "min_coins([1, 2, 5], 11)\n",
    "    3\n",
    "    >>> min_coins([2], 3)\n",
    "    -1\n",
    "    \"\"\"\n",
    "    dp = [float('inf')] * (amount + 1)\n",
    "    dp[0] = 0\n",
    "    for coin in coins:\n",
    "        for i in range(coin, amount + 1):\n",
    "            dp[i] = min(dp[i], dp[i - coin] + 1)\n",
    "\n",
    "    return dp[amount] if dp[amount] != float('inf') else -1\n",
    "min_coins([1,2,5], 11)"
   ]
  },
  {
   "cell_type": "code",
   "execution_count": 22,
   "id": "5963a413",
   "metadata": {},
   "outputs": [
    {
     "name": "stdout",
     "output_type": "stream",
     "text": [
      "3\n"
     ]
    }
   ],
   "source": [
    "# Task 2\n",
    "def longest_common_subsequence(s1, s2):\n",
    "    length1 = len(s1)\n",
    "    length2 = len(s2)\n",
    "    dp = [[0] * (length2 + 1) for _ in range(length1 + 1)]  # Fixed here\n",
    "\n",
    "    for i in range(1, length1 + 1):\n",
    "        for j in range(1, length2 + 1):\n",
    "            if s1[i - 1] == s2[j - 1]:\n",
    "                dp[i][j] = dp[i - 1][j - 1] + 1\n",
    "            else:\n",
    "                dp[i][j] = max(dp[i - 1][j], dp[i][j - 1])\n",
    "    return dp[length1][length2]\n",
    "\n",
    "print(longest_common_subsequence(\"abcde\", \"ace\"))\n"
   ]
  },
  {
   "cell_type": "code",
   "execution_count": 20,
   "id": "0c82c15b",
   "metadata": {},
   "outputs": [
    {
     "name": "stdout",
     "output_type": "stream",
     "text": [
      "9\n"
     ]
    }
   ],
   "source": [
    "#Task3\n",
    "def knapsack(weights, values, capacity):\n",
    "    dp = [[0] * (capacity + 1) for _ in range(len(weights) + 1)]\n",
    "\n",
    "    for i in range(1, len(weights) + 1):\n",
    "        for w in range(1, capacity + 1):\n",
    "            if weights[i-1] <= w:\n",
    "                dp[i][w] = max(dp[i-1][w], values[i-1] + dp[i-1][w - weights[i-1]])\n",
    "            else:\n",
    "                dp[i][w] = dp[i-1][w]\n",
    "\n",
    "    return dp[len(weights)][capacity]\n",
    "weights = [1, 3, 4, 5]\n",
    "values = [1, 4, 5, 7]\n",
    "capacity = 7\n",
    "\n",
    "print(knapsack(weights, values, capacity))"
   ]
  },
  {
   "cell_type": "code",
   "execution_count": null,
   "id": "18734834",
   "metadata": {},
   "outputs": [],
   "source": []
  }
 ],
 "metadata": {
  "kernelspec": {
   "display_name": "Python 3 (ipykernel)",
   "language": "python",
   "name": "python3"
  },
  "language_info": {
   "codemirror_mode": {
    "name": "ipython",
    "version": 3
   },
   "file_extension": ".py",
   "mimetype": "text/x-python",
   "name": "python",
   "nbconvert_exporter": "python",
   "pygments_lexer": "ipython3",
   "version": "3.11.5"
  }
 },
 "nbformat": 4,
 "nbformat_minor": 5
}
